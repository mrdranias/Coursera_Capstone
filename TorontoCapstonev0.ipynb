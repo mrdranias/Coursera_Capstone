{
    "nbformat_minor": 1, 
    "cells": [
        {
            "source": "# TORONTO NEIGHBORHOOD SCRAPE, SEGMENT, CLUSTER CAPSTONE\n### explore, segment, and cluster the neighborhoods in the city of Toronto.\n1. Create structured dataframe of Toronto data\n   * to explore and cluster the neighborhoods in Toronto scrape https://en.wikipedia.org/wiki/List_of_postal_codes_of_Canada:_M . \n        * ignore neighborhoods/postal codes that are not assigned a borough.\n        * boroughs lacking a neighborhood have the same name.\n   * read data into a pandas dataframe with column keys: Postal Code, Borough, Neighborhood.\n        * Postal Code serves as the primary key\n        * Neighborhoods with same Postal Code will be concatenated into a single value: \"N1,N2\"\n2. Comment code and provide Markdown titles.\n3. Last line display dataframe and should give shape of cleaned dataframe. \n4. Make this the first notebook. Publish to github in an open access directory, provide link to github ipynb for first submission.\n5. *Change name of notebook to xxx-v1.ipynb\n6. Use Geocoder Python package: https://geocoder.readthedocs.io/index.html to get mapping data. \n    * Final output should be table with column keys: postal code, borough, neighborhood, latitude, longitude\n    * May want to incorporate code:\n                import geocoder # import geocoder\n                lat_lng_coords = None\n                while(lat_lng_coords is None):\n                  g = geocoder.google('{}, Toronto, Ontario'.format(postal_code))\n                  lat_lng_coords = g.latlng\n                latitude = lat_lng_coords[0]\n                longitude = lat_lng_coords[1] \n7. Verify latitude and longitude http://cocl.us/Geospatial_data\n8. Publish to Github, in an open access directory, provide link to github ipynb file for final submission.\n9. *Change name to xxx-v2.ipynb\n10. Explore and cluster the neighborhoods in Toronto. Use only boroughs that contain the word Toronto and replicate the same analysis as done with New York City data. \n    * use foursquare to identify categories of venues.\n    * use folium to generate maps to visualize your neighborhoods and how they cluster together. \n11. Publish to Github, in an open access directory, provide link to github ipynb file for final submission.", 
            "cell_type": "markdown", 
            "metadata": {
                "collapsed": true
            }
        }, 
        {
            "source": "## OVERVIEW\n1. Load Relevant Libraries\n2. Scrape wikipedia website.\n3. Clean Toronto Data. \n4. Deliverable 1: Cleaned Data Table\n5. Get postal code latitude and longitude. Display geolocated pandas data.\n6. Explore and cluster toronto neighborhoods using NYC analysis as template.", 
            "cell_type": "markdown", 
            "metadata": {}
        }, 
        {
            "source": "### 1. LOAD RELEVANT LIBRARIES\n1. General processing\n2. Scraping\n3. HTML and image display\n4. geolocation\n5. mapping\n6. clustering", 
            "cell_type": "markdown", 
            "metadata": {}
        }, 
        {
            "execution_count": 1, 
            "cell_type": "code", 
            "metadata": {}, 
            "outputs": [], 
            "source": "#1. load General processing libraries\nimport pandas as pd \nimport numpy as np \nimport random \n\n#2. load libraries for scraping\nfrom bs4 import BeautifulSoup\nimport requests # library to handle requests\n\n#3. libraries for displaying HTML and images\nfrom IPython.display import Image \nfrom IPython.core.display import display, HTML\n\n#4. loading libraries for geolocation\n# module to convert an address into latitude and longitude values\ntry:\n    from geopy.geocoders import Nominatim\nexcept:\n    !conda install -c conda-forge geopy --yes \n    from geopy.geocoders import Nominatim\n\n#5. loading libraries for Mapping    \ntry:\n    import folium # plotting library\nexcept:\n    !conda install -c conda-forge folium=0.5.0 --yes\n    import folium # plotting library\n\n#6. Loading libraries for clustering\n# tranforming json file into a pandas dataframe library\nfrom pandas.io.json import json_normalize\n\n"
        }, 
        {
            "source": "### 2. SCRAPING WIKIPEDIA DATA\n1. Load wikipedia page\n2. Extract table\n3. format HTML table into string type and read data into pd.DataFrame\n4. Display wrangled data", 
            "cell_type": "markdown", 
            "metadata": {}
        }, 
        {
            "execution_count": 2, 
            "cell_type": "code", 
            "metadata": {}, 
            "outputs": [
                {
                    "output_type": "stream", 
                    "name": "stdout", 
                    "text": "Raw dataframe contains 288 postal codes\n"
                }, 
                {
                    "execution_count": 2, 
                    "metadata": {}, 
                    "data": {
                        "text/html": "<div>\n<style scoped>\n    .dataframe tbody tr th:only-of-type {\n        vertical-align: middle;\n    }\n\n    .dataframe tbody tr th {\n        vertical-align: top;\n    }\n\n    .dataframe thead th {\n        text-align: right;\n    }\n</style>\n<table border=\"1\" class=\"dataframe\">\n  <thead>\n    <tr style=\"text-align: right;\">\n      <th></th>\n      <th>Postcode</th>\n      <th>Borough</th>\n      <th>Neighbourhood</th>\n    </tr>\n  </thead>\n  <tbody>\n    <tr>\n      <th>0</th>\n      <td>M1A</td>\n      <td>Not assigned</td>\n      <td>Not assigned</td>\n    </tr>\n    <tr>\n      <th>1</th>\n      <td>M2A</td>\n      <td>Not assigned</td>\n      <td>Not assigned</td>\n    </tr>\n    <tr>\n      <th>2</th>\n      <td>M3A</td>\n      <td>North York</td>\n      <td>Parkwoods</td>\n    </tr>\n    <tr>\n      <th>3</th>\n      <td>M4A</td>\n      <td>North York</td>\n      <td>Victoria Village</td>\n    </tr>\n    <tr>\n      <th>4</th>\n      <td>M5A</td>\n      <td>Downtown Toronto</td>\n      <td>Harbourfront</td>\n    </tr>\n  </tbody>\n</table>\n</div>", 
                        "text/plain": "  Postcode           Borough     Neighbourhood\n0      M1A      Not assigned      Not assigned\n1      M2A      Not assigned      Not assigned\n2      M3A        North York         Parkwoods\n3      M4A        North York  Victoria Village\n4      M5A  Downtown Toronto      Harbourfront"
                    }, 
                    "output_type": "execute_result"
                }
            ], 
            "source": "#1. Load wikipedia page\n# use requests.get to read in wikipedia list of toronto postal codes.\nhtml_url =  'https://en.wikipedia.org/wiki/List_of_postal_codes_of_Canada:_M'\nhtml_file = requests.get(html_url)\n\n#2. Extract table\n#structure website using beautiful soup\nfile = BeautifulSoup(html_file.content, 'lxml')\n#Extract postal data table (review website coding to identify data is located in a table structure)\ntable = file.table\n\n#3. format HTML table into string type\n#cast postal data table html as string so it can be read by pandas read_html.\ntoronto_raw_postal_wiki_df = pd.read_html(str(table))[0]\n\n#4. Display wrangled data\n#verify raw postal data table\nprint(\"Raw dataframe contains {} postal codes\".format(toronto_raw_postal_wiki_df.shape[0]))\ntoronto_raw_postal_wiki_df.head()"
        }, 
        {
            "source": "### 3. CLEAN TORONTO DATA\n1. identify and eliminate rows with Borough value \"Not assigned\"\n2. assign Neighborhood value to Borough value if Neighborhood is \"Not Assigned\"\n3. group by postcode. If there are multiple neighborhoods, replace with comma delimited string.\n4. Display cleaned table, show count of rows and columns.", 
            "cell_type": "markdown", 
            "metadata": {}
        }, 
        {
            "execution_count": 3, 
            "cell_type": "code", 
            "metadata": {}, 
            "outputs": [
                {
                    "output_type": "stream", 
                    "name": "stdout", 
                    "text": " 1 rows were found to have missing Neighborhood values\n\nAfter correction, 0 rows were found to have missing Neighborhood values\n"
                }, 
                {
                    "output_type": "stream", 
                    "name": "stderr", 
                    "text": "/opt/conda/envs/Python36/lib/python3.6/site-packages/pandas/core/indexing.py:190: SettingWithCopyWarning: \nA value is trying to be set on a copy of a slice from a DataFrame\n\nSee the caveats in the documentation: http://pandas.pydata.org/pandas-docs/stable/indexing.html#indexing-view-versus-copy\n  self._setitem_with_indexer(indexer, value)\n/opt/conda/envs/Python36/lib/python3.6/site-packages/ipykernel/__main__.py:13: SettingWithCopyWarning: \nA value is trying to be set on a copy of a slice from a DataFrame\n\nSee the caveats in the documentation: http://pandas.pydata.org/pandas-docs/stable/indexing.html#indexing-view-versus-copy\n"
                }, 
                {
                    "execution_count": 3, 
                    "metadata": {}, 
                    "data": {
                        "text/html": "<div>\n<style scoped>\n    .dataframe tbody tr th:only-of-type {\n        vertical-align: middle;\n    }\n\n    .dataframe tbody tr th {\n        vertical-align: top;\n    }\n\n    .dataframe thead th {\n        text-align: right;\n    }\n</style>\n<table border=\"1\" class=\"dataframe\">\n  <thead>\n    <tr style=\"text-align: right;\">\n      <th></th>\n      <th>Postcode</th>\n      <th>Borough</th>\n      <th>Neighbourhood</th>\n    </tr>\n  </thead>\n  <tbody>\n    <tr>\n      <th>0</th>\n      <td>M1B</td>\n      <td>Scarborough</td>\n      <td>Rouge</td>\n    </tr>\n    <tr>\n      <th>1</th>\n      <td>M1B</td>\n      <td>Scarborough</td>\n      <td>Malvern</td>\n    </tr>\n    <tr>\n      <th>2</th>\n      <td>M1C</td>\n      <td>Scarborough</td>\n      <td>Port Union</td>\n    </tr>\n    <tr>\n      <th>3</th>\n      <td>M1C</td>\n      <td>Scarborough</td>\n      <td>Rouge Hill</td>\n    </tr>\n    <tr>\n      <th>4</th>\n      <td>M1C</td>\n      <td>Scarborough</td>\n      <td>Highland Creek</td>\n    </tr>\n  </tbody>\n</table>\n</div>", 
                        "text/plain": "  Postcode      Borough   Neighbourhood\n0      M1B  Scarborough           Rouge\n1      M1B  Scarborough         Malvern\n2      M1C  Scarborough      Port Union\n3      M1C  Scarborough      Rouge Hill\n4      M1C  Scarborough  Highland Creek"
                    }, 
                    "output_type": "execute_result"
                }
            ], 
            "source": "#1. identify and eliminate rows with Borough value \"Not assigned\"\n#Make logical index of rows where borough is notassigned\nBad_Borough_Index = toronto_raw_postal_wiki_df.loc[:,'Borough'].isin(['Not assigned'])\n#Use logical negation to drop bad rows. Assign values optimistically to new clean table.\ntoronto_postal_df = toronto_raw_postal_wiki_df.loc[~Bad_Borough_Index,:]\n\n#2. assign Neighborhood value to Borough value if Neighborhood is \"Not Assigned\"\n#Find rows where Neighborhood is not assigned.\nBad_Neighborhood_Index = toronto_postal_df.loc[:,'Neighbourhood'].isin(['Not assigned'])\nprint(\" {} rows were found to have missing Neighborhood values\".format(sum(Bad_Neighborhood_Index)))\nprint()        \n#Assign Borough value to Bad Neighborhood values.\ntoronto_postal_df.loc[Bad_Neighborhood_Index,'Neighbourhood']=toronto_postal_df.loc[Bad_Neighborhood_Index,'Borough']\n#check data frame for Missing Neighborhood values.\nBad_Neighborhood_Index2 = toronto_postal_df.loc[:,'Neighbourhood'].isin(['Not assigned'])\nprint(\"After correction, {} rows were found to have missing Neighborhood values\".format(sum(Bad_Neighborhood_Index2)))\ntoronto_postal_df = toronto_postal_df.sort_values(by=['Postcode']).reset_index(drop=True)\ntoronto_postal_df.head()"
        }, 
        {
            "execution_count": 4, 
            "cell_type": "code", 
            "metadata": {}, 
            "outputs": [
                {
                    "execution_count": 4, 
                    "metadata": {}, 
                    "data": {
                        "text/html": "<table border=\"1\" class=\"dataframe\">\n  <thead>\n    <tr style=\"text-align: right;\">\n      <th></th>\n      <th>Postcode</th>\n      <th>Borough</th>\n      <th>Neighbourhood</th>\n    </tr>\n  </thead>\n  <tbody>\n    <tr>\n      <th>0</th>\n      <td>M1B</td>\n      <td>Scarborough</td>\n      <td>Rouge, Malvern</td>\n    </tr>\n    <tr>\n      <th>1</th>\n      <td>M1C</td>\n      <td>Scarborough</td>\n      <td>Port Union, Rouge Hill, Highland Creek</td>\n    </tr>\n    <tr>\n      <th>2</th>\n      <td>M1E</td>\n      <td>Scarborough</td>\n      <td>Guildwood, Morningside, West Hill</td>\n    </tr>\n    <tr>\n      <th>3</th>\n      <td>M1G</td>\n      <td>Scarborough</td>\n      <td>Woburn</td>\n    </tr>\n    <tr>\n      <th>4</th>\n      <td>M1H</td>\n      <td>Scarborough</td>\n      <td>Cedarbrae</td>\n    </tr>\n    <tr>\n      <th>5</th>\n      <td>M1J</td>\n      <td>Scarborough</td>\n      <td>Scarborough Village</td>\n    </tr>\n    <tr>\n      <th>6</th>\n      <td>M1K</td>\n      <td>Scarborough</td>\n      <td>East Birchmount Park, Ionview, Kennedy Park</td>\n    </tr>\n    <tr>\n      <th>7</th>\n      <td>M1L</td>\n      <td>Scarborough</td>\n      <td>Golden Mile, Oakridge, Clairlea</td>\n    </tr>\n    <tr>\n      <th>8</th>\n      <td>M1M</td>\n      <td>Scarborough</td>\n      <td>Cliffcrest, Scarborough Village West, Cliffside</td>\n    </tr>\n    <tr>\n      <th>9</th>\n      <td>M1N</td>\n      <td>Scarborough</td>\n      <td>Cliffside West, Birch Cliff</td>\n    </tr>\n    <tr>\n      <th>10</th>\n      <td>M1P</td>\n      <td>Scarborough</td>\n      <td>Wexford Heights, Dorset Park, Scarborough Town...</td>\n    </tr>\n    <tr>\n      <th>11</th>\n      <td>M1R</td>\n      <td>Scarborough</td>\n      <td>Maryvale, Wexford</td>\n    </tr>\n    <tr>\n      <th>12</th>\n      <td>M1S</td>\n      <td>Scarborough</td>\n      <td>Agincourt</td>\n    </tr>\n    <tr>\n      <th>13</th>\n      <td>M1T</td>\n      <td>Scarborough</td>\n      <td>Sullivan, Clarks Corners, Tam O'Shanter</td>\n    </tr>\n    <tr>\n      <th>14</th>\n      <td>M1V</td>\n      <td>Scarborough</td>\n      <td>Milliken, Agincourt North, L'Amoreaux East, St...</td>\n    </tr>\n    <tr>\n      <th>15</th>\n      <td>M1W</td>\n      <td>Scarborough</td>\n      <td>L'Amoreaux West</td>\n    </tr>\n    <tr>\n      <th>16</th>\n      <td>M1X</td>\n      <td>Scarborough</td>\n      <td>Upper Rouge</td>\n    </tr>\n    <tr>\n      <th>17</th>\n      <td>M2H</td>\n      <td>North York</td>\n      <td>Hillcrest Village</td>\n    </tr>\n    <tr>\n      <th>18</th>\n      <td>M2J</td>\n      <td>North York</td>\n      <td>Fairview, Oriole, Henry Farm</td>\n    </tr>\n    <tr>\n      <th>19</th>\n      <td>M2K</td>\n      <td>North York</td>\n      <td>Bayview Village</td>\n    </tr>\n    <tr>\n      <th>20</th>\n      <td>M2L</td>\n      <td>North York</td>\n      <td>Silver Hills, York Mills</td>\n    </tr>\n    <tr>\n      <th>21</th>\n      <td>M2M</td>\n      <td>North York</td>\n      <td>Willowdale, Newtonbrook</td>\n    </tr>\n    <tr>\n      <th>22</th>\n      <td>M2N</td>\n      <td>North York</td>\n      <td>Willowdale South</td>\n    </tr>\n    <tr>\n      <th>23</th>\n      <td>M2P</td>\n      <td>North York</td>\n      <td>York Mills West</td>\n    </tr>\n    <tr>\n      <th>24</th>\n      <td>M2R</td>\n      <td>North York</td>\n      <td>Willowdale West</td>\n    </tr>\n    <tr>\n      <th>25</th>\n      <td>M3A</td>\n      <td>North York</td>\n      <td>Parkwoods</td>\n    </tr>\n    <tr>\n      <th>26</th>\n      <td>M3B</td>\n      <td>North York</td>\n      <td>Don Mills North</td>\n    </tr>\n    <tr>\n      <th>27</th>\n      <td>M3C</td>\n      <td>North York</td>\n      <td>Don Mills South, Flemingdon Park</td>\n    </tr>\n    <tr>\n      <th>28</th>\n      <td>M3H</td>\n      <td>North York</td>\n      <td>Wilson Heights, Downsview North, Bathurst Manor</td>\n    </tr>\n    <tr>\n      <th>29</th>\n      <td>M3J</td>\n      <td>North York</td>\n      <td>Northwood Park, York University</td>\n    </tr>\n    <tr>\n      <th>30</th>\n      <td>M3K</td>\n      <td>North York</td>\n      <td>Downsview East, CFB Toronto</td>\n    </tr>\n    <tr>\n      <th>31</th>\n      <td>M3L</td>\n      <td>North York</td>\n      <td>Downsview West</td>\n    </tr>\n    <tr>\n      <th>32</th>\n      <td>M3M</td>\n      <td>North York</td>\n      <td>Downsview Central</td>\n    </tr>\n    <tr>\n      <th>33</th>\n      <td>M3N</td>\n      <td>North York</td>\n      <td>Downsview Northwest</td>\n    </tr>\n    <tr>\n      <th>34</th>\n      <td>M4A</td>\n      <td>North York</td>\n      <td>Victoria Village</td>\n    </tr>\n    <tr>\n      <th>35</th>\n      <td>M4B</td>\n      <td>East York</td>\n      <td>Woodbine Gardens, Parkview Hill</td>\n    </tr>\n    <tr>\n      <th>36</th>\n      <td>M4C</td>\n      <td>East York</td>\n      <td>Woodbine Heights</td>\n    </tr>\n    <tr>\n      <th>37</th>\n      <td>M4E</td>\n      <td>East Toronto</td>\n      <td>The Beaches</td>\n    </tr>\n    <tr>\n      <th>38</th>\n      <td>M4G</td>\n      <td>East York</td>\n      <td>Leaside</td>\n    </tr>\n    <tr>\n      <th>39</th>\n      <td>M4H</td>\n      <td>East York</td>\n      <td>Thorncliffe Park</td>\n    </tr>\n    <tr>\n      <th>40</th>\n      <td>M4J</td>\n      <td>East York</td>\n      <td>East Toronto</td>\n    </tr>\n    <tr>\n      <th>41</th>\n      <td>M4K</td>\n      <td>East Toronto</td>\n      <td>The Danforth West, Riverdale</td>\n    </tr>\n    <tr>\n      <th>42</th>\n      <td>M4L</td>\n      <td>East Toronto</td>\n      <td>The Beaches West, India Bazaar</td>\n    </tr>\n    <tr>\n      <th>43</th>\n      <td>M4M</td>\n      <td>East Toronto</td>\n      <td>Studio District</td>\n    </tr>\n    <tr>\n      <th>44</th>\n      <td>M4N</td>\n      <td>Central Toronto</td>\n      <td>Lawrence Park</td>\n    </tr>\n    <tr>\n      <th>45</th>\n      <td>M4P</td>\n      <td>Central Toronto</td>\n      <td>Davisville North</td>\n    </tr>\n    <tr>\n      <th>46</th>\n      <td>M4R</td>\n      <td>Central Toronto</td>\n      <td>North Toronto West</td>\n    </tr>\n    <tr>\n      <th>47</th>\n      <td>M4S</td>\n      <td>Central Toronto</td>\n      <td>Davisville</td>\n    </tr>\n    <tr>\n      <th>48</th>\n      <td>M4T</td>\n      <td>Central Toronto</td>\n      <td>Moore Park, Summerhill East</td>\n    </tr>\n    <tr>\n      <th>49</th>\n      <td>M4V</td>\n      <td>Central Toronto</td>\n      <td>South Hill, Rathnelly, Summerhill West, Deer P...</td>\n    </tr>\n    <tr>\n      <th>50</th>\n      <td>M4W</td>\n      <td>Downtown Toronto</td>\n      <td>Rosedale</td>\n    </tr>\n    <tr>\n      <th>51</th>\n      <td>M4X</td>\n      <td>Downtown Toronto</td>\n      <td>Cabbagetown, St. James Town</td>\n    </tr>\n    <tr>\n      <th>52</th>\n      <td>M4Y</td>\n      <td>Downtown Toronto</td>\n      <td>Church and Wellesley</td>\n    </tr>\n    <tr>\n      <th>53</th>\n      <td>M5A</td>\n      <td>Downtown Toronto</td>\n      <td>Regent Park, Harbourfront</td>\n    </tr>\n    <tr>\n      <th>54</th>\n      <td>M5B</td>\n      <td>Downtown Toronto</td>\n      <td>Ryerson, Garden District</td>\n    </tr>\n    <tr>\n      <th>55</th>\n      <td>M5C</td>\n      <td>Downtown Toronto</td>\n      <td>St. James Town</td>\n    </tr>\n    <tr>\n      <th>56</th>\n      <td>M5E</td>\n      <td>Downtown Toronto</td>\n      <td>Berczy Park</td>\n    </tr>\n    <tr>\n      <th>57</th>\n      <td>M5G</td>\n      <td>Downtown Toronto</td>\n      <td>Central Bay Street</td>\n    </tr>\n    <tr>\n      <th>58</th>\n      <td>M5H</td>\n      <td>Downtown Toronto</td>\n      <td>King, Adelaide, Richmond</td>\n    </tr>\n    <tr>\n      <th>59</th>\n      <td>M5J</td>\n      <td>Downtown Toronto</td>\n      <td>Toronto Islands, Harbourfront East, Union Station</td>\n    </tr>\n    <tr>\n      <th>60</th>\n      <td>M5K</td>\n      <td>Downtown Toronto</td>\n      <td>Toronto Dominion Centre, Design Exchange</td>\n    </tr>\n    <tr>\n      <th>61</th>\n      <td>M5L</td>\n      <td>Downtown Toronto</td>\n      <td>Commerce Court, Victoria Hotel</td>\n    </tr>\n    <tr>\n      <th>62</th>\n      <td>M5M</td>\n      <td>North York</td>\n      <td>Lawrence Manor East, Bedford Park</td>\n    </tr>\n    <tr>\n      <th>63</th>\n      <td>M5N</td>\n      <td>Central Toronto</td>\n      <td>Roselawn</td>\n    </tr>\n    <tr>\n      <th>64</th>\n      <td>M5P</td>\n      <td>Central Toronto</td>\n      <td>Forest Hill North, Forest Hill West</td>\n    </tr>\n    <tr>\n      <th>65</th>\n      <td>M5R</td>\n      <td>Central Toronto</td>\n      <td>The Annex, Yorkville, North Midtown</td>\n    </tr>\n    <tr>\n      <th>66</th>\n      <td>M5S</td>\n      <td>Downtown Toronto</td>\n      <td>University of Toronto, Harbord</td>\n    </tr>\n    <tr>\n      <th>67</th>\n      <td>M5T</td>\n      <td>Downtown Toronto</td>\n      <td>Kensington Market, Grange Park, Chinatown</td>\n    </tr>\n    <tr>\n      <th>68</th>\n      <td>M5V</td>\n      <td>Downtown Toronto</td>\n      <td>Railway Lands, South Niagara, Harbourfront Wes...</td>\n    </tr>\n    <tr>\n      <th>69</th>\n      <td>M5W</td>\n      <td>Downtown Toronto</td>\n      <td>Stn A PO Boxes 25 The Esplanade</td>\n    </tr>\n    <tr>\n      <th>70</th>\n      <td>M5X</td>\n      <td>Downtown Toronto</td>\n      <td>Underground city, First Canadian Place</td>\n    </tr>\n    <tr>\n      <th>71</th>\n      <td>M6A</td>\n      <td>North York</td>\n      <td>Lawrence Manor, Lawrence Heights</td>\n    </tr>\n    <tr>\n      <th>72</th>\n      <td>M6B</td>\n      <td>North York</td>\n      <td>Glencairn</td>\n    </tr>\n    <tr>\n      <th>73</th>\n      <td>M6C</td>\n      <td>York</td>\n      <td>Humewood-Cedarvale</td>\n    </tr>\n    <tr>\n      <th>74</th>\n      <td>M6E</td>\n      <td>York</td>\n      <td>Caledonia-Fairbanks</td>\n    </tr>\n    <tr>\n      <th>75</th>\n      <td>M6G</td>\n      <td>Downtown Toronto</td>\n      <td>Christie</td>\n    </tr>\n    <tr>\n      <th>76</th>\n      <td>M6H</td>\n      <td>West Toronto</td>\n      <td>Dovercourt Village, Dufferin</td>\n    </tr>\n    <tr>\n      <th>77</th>\n      <td>M6J</td>\n      <td>West Toronto</td>\n      <td>Trinity, Little Portugal</td>\n    </tr>\n    <tr>\n      <th>78</th>\n      <td>M6K</td>\n      <td>West Toronto</td>\n      <td>Exhibition Place, Brockton, Parkdale Village</td>\n    </tr>\n    <tr>\n      <th>79</th>\n      <td>M6L</td>\n      <td>North York</td>\n      <td>North Park, Downsview, Upwood Park</td>\n    </tr>\n    <tr>\n      <th>80</th>\n      <td>M6M</td>\n      <td>York</td>\n      <td>Silverthorn, Mount Dennis, Keelesdale, Del Ray</td>\n    </tr>\n    <tr>\n      <th>81</th>\n      <td>M6N</td>\n      <td>York</td>\n      <td>The Junction North, Runnymede</td>\n    </tr>\n    <tr>\n      <th>82</th>\n      <td>M6P</td>\n      <td>West Toronto</td>\n      <td>High Park, The Junction South</td>\n    </tr>\n    <tr>\n      <th>83</th>\n      <td>M6R</td>\n      <td>West Toronto</td>\n      <td>Roncesvalles, Parkdale</td>\n    </tr>\n    <tr>\n      <th>84</th>\n      <td>M6S</td>\n      <td>West Toronto</td>\n      <td>Runnymede, Swansea</td>\n    </tr>\n    <tr>\n      <th>85</th>\n      <td>M7A</td>\n      <td>Queen's Park</td>\n      <td>Queen's Park</td>\n    </tr>\n    <tr>\n      <th>86</th>\n      <td>M7R</td>\n      <td>Mississauga</td>\n      <td>Canada Post Gateway Processing Centre</td>\n    </tr>\n    <tr>\n      <th>87</th>\n      <td>M7Y</td>\n      <td>East Toronto</td>\n      <td>Business Reply Mail Processing Centre 969 Eastern</td>\n    </tr>\n    <tr>\n      <th>88</th>\n      <td>M8V</td>\n      <td>Etobicoke</td>\n      <td>Mimico South, New Toronto, Humber Bay Shores</td>\n    </tr>\n    <tr>\n      <th>89</th>\n      <td>M8W</td>\n      <td>Etobicoke</td>\n      <td>Long Branch, Alderwood</td>\n    </tr>\n    <tr>\n      <th>90</th>\n      <td>M8X</td>\n      <td>Etobicoke</td>\n      <td>Old Mill North, Montgomery Road, The Kingsway</td>\n    </tr>\n    <tr>\n      <th>91</th>\n      <td>M8Y</td>\n      <td>Etobicoke</td>\n      <td>Old Mill South, King's Mill Park, Humber Bay, ...</td>\n    </tr>\n    <tr>\n      <th>92</th>\n      <td>M8Z</td>\n      <td>Etobicoke</td>\n      <td>Kingsway Park South West, Mimico NW, The Queen...</td>\n    </tr>\n    <tr>\n      <th>93</th>\n      <td>M9A</td>\n      <td>Etobicoke</td>\n      <td>Islington Avenue</td>\n    </tr>\n    <tr>\n      <th>94</th>\n      <td>M9B</td>\n      <td>Etobicoke</td>\n      <td>Cloverdale, West Deane Park, Princess Gardens,...</td>\n    </tr>\n    <tr>\n      <th>95</th>\n      <td>M9C</td>\n      <td>Etobicoke</td>\n      <td>Old Burnhamthorpe, Markland Wood, Eringate, Bl...</td>\n    </tr>\n    <tr>\n      <th>96</th>\n      <td>M9L</td>\n      <td>North York</td>\n      <td>Humber Summit</td>\n    </tr>\n    <tr>\n      <th>97</th>\n      <td>M9M</td>\n      <td>North York</td>\n      <td>Humberlea, Emery</td>\n    </tr>\n    <tr>\n      <th>98</th>\n      <td>M9N</td>\n      <td>York</td>\n      <td>Weston</td>\n    </tr>\n    <tr>\n      <th>99</th>\n      <td>M9P</td>\n      <td>Etobicoke</td>\n      <td>Westmount</td>\n    </tr>\n    <tr>\n      <th>100</th>\n      <td>M9R</td>\n      <td>Etobicoke</td>\n      <td>Richview Gardens, Kingsview Village, St. Phill...</td>\n    </tr>\n    <tr>\n      <th>101</th>\n      <td>M9V</td>\n      <td>Etobicoke</td>\n      <td>Albion Gardens, Beaumond Heights, Humbergate, ...</td>\n    </tr>\n    <tr>\n      <th>102</th>\n      <td>M9W</td>\n      <td>Etobicoke</td>\n      <td>Northwest</td>\n    </tr>\n  </tbody>\n</table>", 
                        "text/plain": "<IPython.core.display.HTML object>"
                    }, 
                    "output_type": "execute_result"
                }
            ], 
            "source": "#3. group by postcode. If there are multiple neighborhoods, replace with comma delimited string.\n#group by postcode, replace neighborhoods with list.\ntoronto_clean_df = pd.DataFrame(toronto_postal_df.groupby(['Postcode','Borough'])['Neighbourhood'].apply(list))\ntoronto_clean_df.reset_index(inplace=True)  \ntoronto_clean_df['Neighbourhood'] = toronto_clean_df.Neighbourhood.apply(lambda x: \", \".join(x)).tolist()\n\n#4. Display cleaned table, show count of rows and columns.\nHTML(toronto_clean_df.to_html())"
        }, 
        {
            "execution_count": 5, 
            "cell_type": "code", 
            "metadata": {}, 
            "outputs": [
                {
                    "output_type": "stream", 
                    "name": "stdout", 
                    "text": "The shape is 103 rows (Postcodes) and 3 columns (Pstcd-Brgh-Nghbrhd)\n"
                }
            ], 
            "source": "print(\"The shape is {} rows (Postcodes) and {} columns (Pstcd-Brgh-Nghbrhd)\".format(toronto_clean_df.shape[0],toronto_clean_df.shape[1]))"
        }, 
        {
            "execution_count": null, 
            "cell_type": "code", 
            "metadata": {}, 
            "outputs": [], 
            "source": ""
        }
    ], 
    "metadata": {
        "kernelspec": {
            "display_name": "Python 3.6", 
            "name": "python3", 
            "language": "python"
        }, 
        "language_info": {
            "mimetype": "text/x-python", 
            "nbconvert_exporter": "python", 
            "version": "3.6.8", 
            "name": "python", 
            "file_extension": ".py", 
            "pygments_lexer": "ipython3", 
            "codemirror_mode": {
                "version": 3, 
                "name": "ipython"
            }
        }
    }, 
    "nbformat": 4
}